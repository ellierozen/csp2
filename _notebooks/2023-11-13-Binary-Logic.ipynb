{
 "cells": [
  {
   "cell_type": "code",
   "execution_count": 2,
   "metadata": {},
   "outputs": [
    {
     "name": "stdout",
     "output_type": "stream",
     "text": [
      "Welcome to the Binary Guessing Game!\n",
      "I've generated a binary number. Try to guess it!\n",
      "Incorrect! Try again.\n"
     ]
    }
   ],
   "source": [
    "import random\n",
    "\n",
    "def generate_binary_number(length):\n",
    "    return ''.join(random.choice('01') for _ in range(length))\n",
    "\n",
    "def get_player_guess():\n",
    "    while True:\n",
    "        guess = input(\"Enter your guess (a binary number): \")\n",
    "        if all(bit in '01' for bit in guess):\n",
    "            return guess\n",
    "        else:\n",
    "            print(\"Invalid input. Please enter a valid binary number.\")\n",
    "\n",
    "def play_binary_guessing_game():\n",
    "    print(\"Welcome to the Binary Guessing Game!\")\n",
    "    print(\"I've generated a binary number. Try to guess it!\")\n",
    "\n",
    "    binary_number_length = 8  # You can adjust the length of the binary number as desired\n",
    "    secret_number = generate_binary_number(binary_number_length)\n",
    "\n",
    "    attempts = 0\n",
    "    while True:\n",
    "        player_guess = get_player_guess()\n",
    "        attempts += 1\n",
    "\n",
    "        if player_guess == secret_number:\n",
    "            print(f\"Congratulations! You guessed the correct binary number: {secret_number}\")\n",
    "            print(f\"It took you {attempts} attempts.\")\n",
    "            break\n",
    "        else:\n",
    "            print(\"Incorrect! Try again.\")\n",
    "\n",
    "if __name__ == \"__main__\":\n",
    "    play_binary_guessing_game()\n"
   ]
  }
 ],
 "metadata": {
  "kernelspec": {
   "display_name": "Python 3",
   "language": "python",
   "name": "python3"
  },
  "language_info": {
   "codemirror_mode": {
    "name": "ipython",
    "version": 3
   },
   "file_extension": ".py",
   "mimetype": "text/x-python",
   "name": "python",
   "nbconvert_exporter": "python",
   "pygments_lexer": "ipython3",
   "version": "3.11.5"
  },
  "orig_nbformat": 4
 },
 "nbformat": 4,
 "nbformat_minor": 2
}
